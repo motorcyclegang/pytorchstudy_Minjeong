{
 "cells": [
  {
   "cell_type": "markdown",
   "source": [
    "다중선형 회귀\r\n",
    "\r\n",
    "다수의  x로 부터 y를 예측\r\n",
    "\r\n",
    "H(x) = w1x1+w2x2+w3x3+b"
   ],
   "metadata": {}
  },
  {
   "cell_type": "code",
   "execution_count": 3,
   "source": [
    "import torch\r\n",
    "import torch.nn as nn\r\n",
    "import torch.nn.functional as F\r\n",
    "import torch.optim as optim"
   ],
   "outputs": [],
   "metadata": {}
  },
  {
   "cell_type": "code",
   "execution_count": 4,
   "source": [
    "torch.manual_seed(1)"
   ],
   "outputs": [
    {
     "output_type": "execute_result",
     "data": {
      "text/plain": [
       "<torch._C.Generator at 0x1c4207ea0b0>"
      ]
     },
     "metadata": {},
     "execution_count": 4
    }
   ],
   "metadata": {}
  },
  {
   "cell_type": "code",
   "execution_count": 5,
   "source": [
    "# 훈련 데이터\r\n",
    "x1_train = torch.FloatTensor([[73], [93], [89], [96], [73]])\r\n",
    "x2_train = torch.FloatTensor([[80], [88], [91], [98], [66]])\r\n",
    "x3_train = torch.FloatTensor([[75], [93], [90], [100], [70]])\r\n",
    "y_train = torch.FloatTensor([[152], [185], [180], [196], [142]])"
   ],
   "outputs": [],
   "metadata": {}
  },
  {
   "cell_type": "code",
   "execution_count": 6,
   "source": [
    "# 가중치 w와 편향 b 초기화\r\n",
    "w1 = torch.zeros(1, requires_grad=True)\r\n",
    "w2 = torch.zeros(1, requires_grad=True)\r\n",
    "w3 = torch.zeros(1, requires_grad=True)\r\n",
    "b = torch.zeros(1, requires_grad=True)"
   ],
   "outputs": [],
   "metadata": {}
  },
  {
   "cell_type": "code",
   "execution_count": 7,
   "source": [
    "# optimizer 설정\r\n",
    "optimizer = optim.SGD([w1, w2, w3, b], lr=1e-5)\r\n",
    "\r\n",
    "nb_epochs = 1000\r\n",
    "for epoch in range(nb_epochs + 1):\r\n",
    "\r\n",
    "    # H(x) 계산\r\n",
    "    hypothesis = x1_train * w1 + x2_train * w2 + x3_train * w3 + b\r\n",
    "\r\n",
    "    # cost 계산\r\n",
    "    cost = torch.mean((hypothesis - y_train) ** 2)\r\n",
    "\r\n",
    "    # cost로 H(x) 개선\r\n",
    "    optimizer.zero_grad()\r\n",
    "    cost.backward()\r\n",
    "    optimizer.step()\r\n",
    "\r\n",
    "    # 100번마다 로그 출력\r\n",
    "    if epoch % 100 == 0:\r\n",
    "        print('Epoch {:4d}/{} w1: {:.3f} w2: {:.3f} w3: {:.3f} b: {:.3f} Cost: {:.6f}'.format(\r\n",
    "            epoch, nb_epochs, w1.item(), w2.item(), w3.item(), b.item(), cost.item()\r\n",
    "        ))"
   ],
   "outputs": [
    {
     "output_type": "stream",
     "name": "stdout",
     "text": [
      "Epoch    0/1000 w1: 0.294 w2: 0.294 w3: 0.297 b: 0.003 Cost: 29661.800781\n",
      "Epoch  100/1000 w1: 0.674 w2: 0.661 w3: 0.676 b: 0.008 Cost: 1.563634\n",
      "Epoch  200/1000 w1: 0.679 w2: 0.655 w3: 0.677 b: 0.008 Cost: 1.497607\n",
      "Epoch  300/1000 w1: 0.684 w2: 0.649 w3: 0.677 b: 0.008 Cost: 1.435026\n",
      "Epoch  400/1000 w1: 0.689 w2: 0.643 w3: 0.678 b: 0.008 Cost: 1.375730\n",
      "Epoch  500/1000 w1: 0.694 w2: 0.638 w3: 0.678 b: 0.009 Cost: 1.319511\n",
      "Epoch  600/1000 w1: 0.699 w2: 0.633 w3: 0.679 b: 0.009 Cost: 1.266222\n",
      "Epoch  700/1000 w1: 0.704 w2: 0.627 w3: 0.679 b: 0.009 Cost: 1.215696\n",
      "Epoch  800/1000 w1: 0.709 w2: 0.622 w3: 0.679 b: 0.009 Cost: 1.167818\n",
      "Epoch  900/1000 w1: 0.713 w2: 0.617 w3: 0.680 b: 0.009 Cost: 1.122429\n",
      "Epoch 1000/1000 w1: 0.718 w2: 0.613 w3: 0.680 b: 0.009 Cost: 1.079378\n"
     ]
    }
   ],
   "metadata": {}
  },
  {
   "cell_type": "code",
   "execution_count": 8,
   "source": [
    "x_train  =  torch.FloatTensor([[73,  80,  75], \r\n",
    "                               [93,  88,  93], \r\n",
    "                               [89,  91,  80], \r\n",
    "                               [96,  98,  100],   \r\n",
    "                               [73,  66,  70]])  \r\n",
    "y_train  =  torch.FloatTensor([[152],  [185],  [180],  [196],  [142]])"
   ],
   "outputs": [],
   "metadata": {}
  },
  {
   "cell_type": "code",
   "execution_count": 9,
   "source": [
    "print(x_train.shape)\r\n",
    "print(y_train.shape)"
   ],
   "outputs": [
    {
     "output_type": "stream",
     "name": "stdout",
     "text": [
      "torch.Size([5, 3])\n",
      "torch.Size([5, 1])\n"
     ]
    }
   ],
   "metadata": {}
  },
  {
   "cell_type": "code",
   "execution_count": 10,
   "source": [
    "# 가중치와 편향 선언\r\n",
    "W = torch.zeros((3, 1), requires_grad=True)\r\n",
    "b = torch.zeros(1, requires_grad=True)"
   ],
   "outputs": [],
   "metadata": {}
  },
  {
   "cell_type": "code",
   "execution_count": 11,
   "source": [
    "hypothesis = x_train.matmul(W) + b"
   ],
   "outputs": [],
   "metadata": {}
  },
  {
   "cell_type": "code",
   "execution_count": 12,
   "source": [
    "x_train  =  torch.FloatTensor([[73,  80,  75], \r\n",
    "                               [93,  88,  93], \r\n",
    "                               [89,  91,  80], \r\n",
    "                               [96,  98,  100],   \r\n",
    "                               [73,  66,  70]])  \r\n",
    "y_train  =  torch.FloatTensor([[152],  [185],  [180],  [196],  [142]])\r\n",
    "\r\n",
    "# 모델 초기화\r\n",
    "W = torch.zeros((3, 1), requires_grad=True)\r\n",
    "b = torch.zeros(1, requires_grad=True)\r\n",
    "# optimizer 설정\r\n",
    "optimizer = optim.SGD([W, b], lr=1e-5)\r\n",
    "\r\n",
    "nb_epochs = 20\r\n",
    "for epoch in range(nb_epochs + 1):\r\n",
    "\r\n",
    "    # H(x) 계산\r\n",
    "    # 편향 b는 브로드 캐스팅되어 각 샘플에 더해집니다.\r\n",
    "    hypothesis = x_train.matmul(W) + b\r\n",
    "\r\n",
    "    # cost 계산\r\n",
    "    cost = torch.mean((hypothesis - y_train) ** 2)\r\n",
    "\r\n",
    "    # cost로 H(x) 개선\r\n",
    "    optimizer.zero_grad()\r\n",
    "    cost.backward()\r\n",
    "    optimizer.step()\r\n",
    "\r\n",
    "    print('Epoch {:4d}/{} hypothesis: {} Cost: {:.6f}'.format(\r\n",
    "        epoch, nb_epochs, hypothesis.squeeze().detach(), cost.item()\r\n",
    "    ))"
   ],
   "outputs": [
    {
     "output_type": "stream",
     "name": "stdout",
     "text": [
      "Epoch    0/20 hypothesis: tensor([0., 0., 0., 0., 0.]) Cost: 29661.800781\n",
      "Epoch    1/20 hypothesis: tensor([66.7178, 80.1701, 76.1025, 86.0194, 61.1565]) Cost: 9537.694336\n",
      "Epoch    2/20 hypothesis: tensor([104.5421, 125.6208, 119.2478, 134.7861,  95.8280]) Cost: 3069.590820\n",
      "Epoch    3/20 hypothesis: tensor([125.9858, 151.3882, 143.7087, 162.4333, 115.4844]) Cost: 990.670288\n",
      "Epoch    4/20 hypothesis: tensor([138.1429, 165.9963, 157.5768, 178.1071, 126.6283]) Cost: 322.481964\n",
      "Epoch    5/20 hypothesis: tensor([145.0350, 174.2780, 165.4395, 186.9928, 132.9461]) Cost: 107.717064\n",
      "Epoch    6/20 hypothesis: tensor([148.9423, 178.9731, 169.8976, 192.0301, 136.5279]) Cost: 38.687401\n",
      "Epoch    7/20 hypothesis: tensor([151.1574, 181.6347, 172.4254, 194.8856, 138.5585]) Cost: 16.499046\n",
      "Epoch    8/20 hypothesis: tensor([152.4131, 183.1435, 173.8590, 196.5042, 139.7097]) Cost: 9.365656\n",
      "Epoch    9/20 hypothesis: tensor([153.1250, 183.9988, 174.6723, 197.4216, 140.3625]) Cost: 7.071105\n",
      "Epoch   10/20 hypothesis: tensor([153.5285, 184.4835, 175.1338, 197.9415, 140.7325]) Cost: 6.331867\n",
      "Epoch   11/20 hypothesis: tensor([153.7572, 184.7582, 175.3958, 198.2360, 140.9424]) Cost: 6.092532\n",
      "Epoch   12/20 hypothesis: tensor([153.8868, 184.9138, 175.5449, 198.4026, 141.0614]) Cost: 6.013823\n",
      "Epoch   13/20 hypothesis: tensor([153.9602, 185.0019, 175.6299, 198.4969, 141.1288]) Cost: 5.986775\n",
      "Epoch   14/20 hypothesis: tensor([154.0017, 185.0517, 175.6785, 198.5501, 141.1671]) Cost: 5.976314\n",
      "Epoch   15/20 hypothesis: tensor([154.0252, 185.0798, 175.7065, 198.5800, 141.1888]) Cost: 5.971213\n",
      "Epoch   16/20 hypothesis: tensor([154.0385, 185.0956, 175.7229, 198.5966, 141.2012]) Cost: 5.967797\n",
      "Epoch   17/20 hypothesis: tensor([154.0459, 185.1045, 175.7326, 198.6058, 141.2082]) Cost: 5.964961\n",
      "Epoch   18/20 hypothesis: tensor([154.0501, 185.1094, 175.7386, 198.6108, 141.2122]) Cost: 5.962292\n",
      "Epoch   19/20 hypothesis: tensor([154.0524, 185.1120, 175.7424, 198.6134, 141.2145]) Cost: 5.959693\n",
      "Epoch   20/20 hypothesis: tensor([154.0536, 185.1134, 175.7451, 198.6146, 141.2158]) Cost: 5.957091\n"
     ]
    }
   ],
   "metadata": {}
  },
  {
   "cell_type": "code",
   "execution_count": null,
   "source": [],
   "outputs": [],
   "metadata": {}
  }
 ],
 "metadata": {
  "orig_nbformat": 4,
  "language_info": {
   "name": "python",
   "version": "3.9.6",
   "mimetype": "text/x-python",
   "codemirror_mode": {
    "name": "ipython",
    "version": 3
   },
   "pygments_lexer": "ipython3",
   "nbconvert_exporter": "python",
   "file_extension": ".py"
  },
  "kernelspec": {
   "name": "python3",
   "display_name": "Python 3.9.6 64-bit"
  },
  "interpreter": {
   "hash": "91fa4ce6aae8c6710e24d087068f91dd0bd45b1fb43fdf6e02b1c3fbf71d5aa7"
  }
 },
 "nbformat": 4,
 "nbformat_minor": 2
}