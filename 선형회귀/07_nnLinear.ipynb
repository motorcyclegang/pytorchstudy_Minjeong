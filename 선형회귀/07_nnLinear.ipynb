{
 "cells": [
  {
   "cell_type": "code",
   "execution_count": 1,
   "source": [
    "import torch\r\n",
    "import torch.nn as nn\r\n",
    "import torch.nn.functional as F"
   ],
   "outputs": [],
   "metadata": {}
  },
  {
   "cell_type": "code",
   "execution_count": 2,
   "source": [
    "torch.manual_seed(1)"
   ],
   "outputs": [
    {
     "output_type": "execute_result",
     "data": {
      "text/plain": [
       "<torch._C.Generator at 0x1da12e52fb0>"
      ]
     },
     "metadata": {},
     "execution_count": 2
    }
   ],
   "metadata": {}
  },
  {
   "cell_type": "code",
   "execution_count": 3,
   "source": [
    "# 데이터\r\n",
    "x_train = torch.FloatTensor([[73, 80, 75],\r\n",
    "                             [93, 88, 93],\r\n",
    "                             [89, 91, 90],\r\n",
    "                             [96, 98, 100],\r\n",
    "                             [73, 66, 70]])\r\n",
    "y_train = torch.FloatTensor([[152], [185], [180], [196], [142]])"
   ],
   "outputs": [],
   "metadata": {}
  },
  {
   "cell_type": "code",
   "execution_count": 4,
   "source": [
    "# 모델을 선언 및 초기화. 다중 선형 회귀이므로 input_dim=3, output_dim=1.\r\n",
    "model = nn.Linear(3,1)"
   ],
   "outputs": [],
   "metadata": {}
  },
  {
   "cell_type": "code",
   "execution_count": 5,
   "source": [
    "print(list(model.parameters()))"
   ],
   "outputs": [
    {
     "output_type": "stream",
     "name": "stdout",
     "text": [
      "[Parameter containing:\n",
      "tensor([[ 0.2975, -0.2548, -0.1119]], requires_grad=True), Parameter containing:\n",
      "tensor([0.2710], requires_grad=True)]\n"
     ]
    }
   ],
   "metadata": {}
  },
  {
   "cell_type": "code",
   "execution_count": 6,
   "source": [
    "optimizer = torch.optim.SGD(model.parameters(), lr=1e-5) "
   ],
   "outputs": [],
   "metadata": {}
  },
  {
   "cell_type": "code",
   "execution_count": 7,
   "source": [
    "nb_epochs = 2000\r\n",
    "for epoch in range(nb_epochs+1):\r\n",
    "\r\n",
    "    # H(x) 계산\r\n",
    "    prediction = model(x_train)\r\n",
    "    # model(x_train)은 model.forward(x_train)와 동일함.\r\n",
    "\r\n",
    "    # cost 계산\r\n",
    "    cost = F.mse_loss(prediction, y_train) # <== 파이토치에서 제공하는 평균 제곱 오차 함수\r\n",
    "\r\n",
    "    # cost로 H(x) 개선하는 부분\r\n",
    "    # gradient를 0으로 초기화\r\n",
    "    optimizer.zero_grad()\r\n",
    "    # 비용 함수를 미분하여 gradient 계산\r\n",
    "    cost.backward()\r\n",
    "    # W와 b를 업데이트\r\n",
    "    optimizer.step()\r\n",
    "\r\n",
    "    if epoch % 100 == 0:\r\n",
    "    # 100번마다 로그 출력\r\n",
    "      print('Epoch {:4d}/{} Cost: {:.6f}'.format(\r\n",
    "          epoch, nb_epochs, cost.item()\r\n",
    "      ))"
   ],
   "outputs": [
    {
     "output_type": "stream",
     "name": "stdout",
     "text": [
      "Epoch    0/2000 Cost: 31667.599609\n",
      "Epoch  100/2000 Cost: 0.225988\n",
      "Epoch  200/2000 Cost: 0.223909\n",
      "Epoch  300/2000 Cost: 0.221935\n",
      "Epoch  400/2000 Cost: 0.220059\n",
      "Epoch  500/2000 Cost: 0.218270\n",
      "Epoch  600/2000 Cost: 0.216571\n",
      "Epoch  700/2000 Cost: 0.214954\n",
      "Epoch  800/2000 Cost: 0.213418\n",
      "Epoch  900/2000 Cost: 0.211954\n",
      "Epoch 1000/2000 Cost: 0.210558\n",
      "Epoch 1100/2000 Cost: 0.209230\n",
      "Epoch 1200/2000 Cost: 0.207967\n",
      "Epoch 1300/2000 Cost: 0.206767\n",
      "Epoch 1400/2000 Cost: 0.205619\n",
      "Epoch 1500/2000 Cost: 0.204521\n",
      "Epoch 1600/2000 Cost: 0.203486\n",
      "Epoch 1700/2000 Cost: 0.202486\n",
      "Epoch 1800/2000 Cost: 0.201539\n",
      "Epoch 1900/2000 Cost: 0.200635\n",
      "Epoch 2000/2000 Cost: 0.199771\n"
     ]
    }
   ],
   "metadata": {}
  },
  {
   "cell_type": "code",
   "execution_count": 8,
   "source": [
    "# 임의의 입력 [73, 80, 75]를 선언\r\n",
    "new_var =  torch.FloatTensor([[73, 80, 75]]) \r\n",
    "# 입력한 값 [73, 80, 75]에 대해서 예측값 y를 리턴받아서 pred_y에 저장\r\n",
    "pred_y = model(new_var) \r\n",
    "print(\"훈련 후 입력이 73, 80, 75일 때의 예측값 :\", pred_y) "
   ],
   "outputs": [
    {
     "output_type": "stream",
     "name": "stdout",
     "text": [
      "훈련 후 입력이 73, 80, 75일 때의 예측값 : tensor([[151.2305]], grad_fn=<AddmmBackward>)\n"
     ]
    }
   ],
   "metadata": {}
  },
  {
   "cell_type": "code",
   "execution_count": 9,
   "source": [
    "print(list(model.parameters()))"
   ],
   "outputs": [
    {
     "output_type": "stream",
     "name": "stdout",
     "text": [
      "[Parameter containing:\n",
      "tensor([[0.9778, 0.4539, 0.5768]], requires_grad=True), Parameter containing:\n",
      "tensor([0.2802], requires_grad=True)]\n"
     ]
    }
   ],
   "metadata": {}
  },
  {
   "cell_type": "code",
   "execution_count": null,
   "source": [],
   "outputs": [],
   "metadata": {}
  }
 ],
 "metadata": {
  "orig_nbformat": 4,
  "language_info": {
   "name": "python",
   "version": "3.9.6",
   "mimetype": "text/x-python",
   "codemirror_mode": {
    "name": "ipython",
    "version": 3
   },
   "pygments_lexer": "ipython3",
   "nbconvert_exporter": "python",
   "file_extension": ".py"
  },
  "kernelspec": {
   "name": "python3",
   "display_name": "Python 3.9.6 64-bit"
  },
  "interpreter": {
   "hash": "91fa4ce6aae8c6710e24d087068f91dd0bd45b1fb43fdf6e02b1c3fbf71d5aa7"
  }
 },
 "nbformat": 4,
 "nbformat_minor": 2
}