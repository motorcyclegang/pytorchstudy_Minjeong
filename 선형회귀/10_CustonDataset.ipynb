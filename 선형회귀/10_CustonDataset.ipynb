{
 "cells": [
  {
   "cell_type": "markdown",
   "source": [
    "class CustomDataset(torch.utils.data.Dataset):   \r\n",
    "    \r\n",
    "    def __init__(self):  \r\n",
    "      데이터셋의 전처리를 해주는 부분\r\n",
    "\r\n",
    "    def __len__(self):  \r\n",
    "      데이터셋의 길이. 즉, 총 샘플의 수를 적어주는 부분\r\n",
    "\r\n",
    "    def __getitem__(self, idx):   \r\n",
    "      데이터셋에서 특정 1개의 샘플을 가져오는 함수"
   ],
   "metadata": {}
  },
  {
   "cell_type": "code",
   "execution_count": 2,
   "source": [
    "import torch\r\n",
    "import torch.nn.functional as F"
   ],
   "outputs": [],
   "metadata": {}
  },
  {
   "cell_type": "code",
   "execution_count": 3,
   "source": [
    "from torch.utils.data import Dataset\r\n",
    "from torch.utils.data import DataLoader"
   ],
   "outputs": [],
   "metadata": {}
  },
  {
   "cell_type": "code",
   "execution_count": 5,
   "source": [
    "# Dataset 상속\r\n",
    "class CustomDataset(Dataset): \r\n",
    "  def __init__(self):\r\n",
    "    self.x_data = [[73, 80, 75],\r\n",
    "                   [93, 88, 93],\r\n",
    "                   [89, 91, 90],\r\n",
    "                   [96, 98, 100],\r\n",
    "                   [73, 66, 70]]\r\n",
    "    self.y_data = [[152], [185], [180], [196], [142]]\r\n",
    "\r\n",
    "  # 총 데이터의 개수를 리턴\r\n",
    "  def __len__(self): \r\n",
    "    return len(self.x_data)\r\n",
    "\r\n",
    "  # 인덱스를 입력받아 그에 맵핑되는 입출력 데이터를 파이토치의 Tensor 형태로 리턴\r\n",
    "  def __getitem__(self, idx): \r\n",
    "    x = torch.FloatTensor(self.x_data[idx])\r\n",
    "    y = torch.FloatTensor(self.y_data[idx])\r\n",
    "    return x, y"
   ],
   "outputs": [],
   "metadata": {}
  },
  {
   "cell_type": "code",
   "execution_count": 6,
   "source": [
    "dataset = CustomDataset()\r\n",
    "dataloader = DataLoader(dataset, batch_size=2, shuffle=True)"
   ],
   "outputs": [],
   "metadata": {}
  },
  {
   "cell_type": "code",
   "execution_count": 7,
   "source": [
    "model = torch.nn.Linear(3,1)\r\n",
    "optimizer = torch.optim.SGD(model.parameters(), lr=1e-5) "
   ],
   "outputs": [],
   "metadata": {}
  },
  {
   "cell_type": "code",
   "execution_count": 8,
   "source": [
    "nb_epochs = 20\r\n",
    "for epoch in range(nb_epochs + 1):\r\n",
    "  for batch_idx, samples in enumerate(dataloader):\r\n",
    "    # print(batch_idx)\r\n",
    "    # print(samples)\r\n",
    "    x_train, y_train = samples\r\n",
    "    # H(x) 계산\r\n",
    "    prediction = model(x_train)\r\n",
    "\r\n",
    "    # cost 계산\r\n",
    "    cost = F.mse_loss(prediction, y_train)\r\n",
    "\r\n",
    "    # cost로 H(x) 계산\r\n",
    "    optimizer.zero_grad()\r\n",
    "    cost.backward()\r\n",
    "    optimizer.step()\r\n",
    "\r\n",
    "    print('Epoch {:4d}/{} Batch {}/{} Cost: {:.6f}'.format(\r\n",
    "        epoch, nb_epochs, batch_idx+1, len(dataloader),\r\n",
    "        cost.item()\r\n",
    "        ))"
   ],
   "outputs": [
    {
     "output_type": "stream",
     "name": "stdout",
     "text": [
      "Epoch    0/20 Batch 1/3 Cost: 15178.447266\n",
      "Epoch    0/20 Batch 2/3 Cost: 5420.809570\n",
      "Epoch    0/20 Batch 3/3 Cost: 2094.478516\n",
      "Epoch    1/20 Batch 1/3 Cost: 341.070557\n",
      "Epoch    1/20 Batch 2/3 Cost: 195.545914\n",
      "Epoch    1/20 Batch 3/3 Cost: 68.378082\n",
      "Epoch    2/20 Batch 1/3 Cost: 5.699540\n",
      "Epoch    2/20 Batch 2/3 Cost: 10.747630\n",
      "Epoch    2/20 Batch 3/3 Cost: 0.020394\n",
      "Epoch    3/20 Batch 1/3 Cost: 2.967408\n",
      "Epoch    3/20 Batch 2/3 Cost: 1.473575\n",
      "Epoch    3/20 Batch 3/3 Cost: 0.121162\n",
      "Epoch    4/20 Batch 1/3 Cost: 0.081858\n",
      "Epoch    4/20 Batch 2/3 Cost: 3.073247\n",
      "Epoch    4/20 Batch 3/3 Cost: 3.586474\n",
      "Epoch    5/20 Batch 1/3 Cost: 2.985690\n",
      "Epoch    5/20 Batch 2/3 Cost: 0.578397\n",
      "Epoch    5/20 Batch 3/3 Cost: 2.398963\n",
      "Epoch    6/20 Batch 1/3 Cost: 3.087332\n",
      "Epoch    6/20 Batch 2/3 Cost: 1.399907\n",
      "Epoch    6/20 Batch 3/3 Cost: 0.087592\n",
      "Epoch    7/20 Batch 1/3 Cost: 2.586231\n",
      "Epoch    7/20 Batch 2/3 Cost: 2.071035\n",
      "Epoch    7/20 Batch 3/3 Cost: 0.176539\n",
      "Epoch    8/20 Batch 1/3 Cost: 0.659050\n",
      "Epoch    8/20 Batch 2/3 Cost: 4.161162\n",
      "Epoch    8/20 Batch 3/3 Cost: 0.006677\n",
      "Epoch    9/20 Batch 1/3 Cost: 1.587415\n",
      "Epoch    9/20 Batch 2/3 Cost: 0.593534\n",
      "Epoch    9/20 Batch 3/3 Cost: 3.359414\n",
      "Epoch   10/20 Batch 1/3 Cost: 1.215646\n",
      "Epoch   10/20 Batch 2/3 Cost: 2.173156\n",
      "Epoch   10/20 Batch 3/3 Cost: 2.905002\n",
      "Epoch   11/20 Batch 1/3 Cost: 0.223837\n",
      "Epoch   11/20 Batch 2/3 Cost: 1.437503\n",
      "Epoch   11/20 Batch 3/3 Cost: 4.852953\n",
      "Epoch   12/20 Batch 1/3 Cost: 0.154349\n",
      "Epoch   12/20 Batch 2/3 Cost: 1.662142\n",
      "Epoch   12/20 Batch 3/3 Cost: 4.155661\n",
      "Epoch   13/20 Batch 1/3 Cost: 0.519805\n",
      "Epoch   13/20 Batch 2/3 Cost: 4.170301\n",
      "Epoch   13/20 Batch 3/3 Cost: 0.492670\n",
      "Epoch   14/20 Batch 1/3 Cost: 2.061575\n",
      "Epoch   14/20 Batch 2/3 Cost: 1.833479\n",
      "Epoch   14/20 Batch 3/3 Cost: 1.714775\n",
      "Epoch   15/20 Batch 1/3 Cost: 1.445750\n",
      "Epoch   15/20 Batch 2/3 Cost: 0.634909\n",
      "Epoch   15/20 Batch 3/3 Cost: 3.493744\n",
      "Epoch   16/20 Batch 1/3 Cost: 2.981981\n",
      "Epoch   16/20 Batch 2/3 Cost: 1.108160\n",
      "Epoch   16/20 Batch 3/3 Cost: 2.115610\n",
      "Epoch   17/20 Batch 1/3 Cost: 1.624501\n",
      "Epoch   17/20 Batch 2/3 Cost: 3.372461\n",
      "Epoch   17/20 Batch 3/3 Cost: 0.035610\n",
      "Epoch   18/20 Batch 1/3 Cost: 0.512786\n",
      "Epoch   18/20 Batch 2/3 Cost: 1.480861\n",
      "Epoch   18/20 Batch 3/3 Cost: 4.121329\n",
      "Epoch   19/20 Batch 1/3 Cost: 0.370158\n",
      "Epoch   19/20 Batch 2/3 Cost: 3.359604\n",
      "Epoch   19/20 Batch 3/3 Cost: 1.133580\n",
      "Epoch   20/20 Batch 1/3 Cost: 0.425465\n",
      "Epoch   20/20 Batch 2/3 Cost: 2.871125\n",
      "Epoch   20/20 Batch 3/3 Cost: 0.771404\n"
     ]
    }
   ],
   "metadata": {}
  },
  {
   "cell_type": "code",
   "execution_count": 9,
   "source": [
    "# 임의의 입력 [73, 80, 75]를 선언\r\n",
    "new_var =  torch.FloatTensor([[73, 80, 75]]) \r\n",
    "# 입력한 값 [73, 80, 75]에 대해서 예측값 y를 리턴받아서 pred_y에 저장\r\n",
    "pred_y = model(new_var) \r\n",
    "print(\"훈련 후 입력이 73, 80, 75일 때의 예측값 :\", pred_y) "
   ],
   "outputs": [
    {
     "output_type": "stream",
     "name": "stdout",
     "text": [
      "훈련 후 입력이 73, 80, 75일 때의 예측값 : tensor([[152.3054]], grad_fn=<AddmmBackward>)\n"
     ]
    }
   ],
   "metadata": {}
  },
  {
   "cell_type": "code",
   "execution_count": null,
   "source": [],
   "outputs": [],
   "metadata": {}
  }
 ],
 "metadata": {
  "orig_nbformat": 4,
  "language_info": {
   "name": "python",
   "version": "3.9.6",
   "mimetype": "text/x-python",
   "codemirror_mode": {
    "name": "ipython",
    "version": 3
   },
   "pygments_lexer": "ipython3",
   "nbconvert_exporter": "python",
   "file_extension": ".py"
  },
  "kernelspec": {
   "name": "python3",
   "display_name": "Python 3.9.6 64-bit"
  },
  "interpreter": {
   "hash": "91fa4ce6aae8c6710e24d087068f91dd0bd45b1fb43fdf6e02b1c3fbf71d5aa7"
  }
 },
 "nbformat": 4,
 "nbformat_minor": 2
}